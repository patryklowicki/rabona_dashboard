{
 "cells": [
  {
   "cell_type": "code",
   "execution_count": 1,
   "metadata": {},
   "outputs": [],
   "source": [
    "import pandas as pd\n",
    "import numpy as np"
   ]
  },
  {
   "cell_type": "markdown",
   "metadata": {},
   "source": [
    "## Read data"
   ]
  },
  {
   "cell_type": "code",
   "execution_count": 2,
   "metadata": {},
   "outputs": [],
   "source": [
    "general    = pd.read_pickle('./data/2020_06_27/general.p')\n",
    "shoting    = pd.read_pickle('./data/2020_06_27/shoting.p')\n",
    "passing    = pd.read_pickle('./data/2020_06_27/passing.p')\n",
    "pass_types = pd.read_pickle('./data/2020_06_27/pass_types.p')\n",
    "possession = pd.read_pickle('./data/2020_06_27/possession.p')\n",
    "defense    = pd.read_pickle('./data/2020_06_27/defense.p')\n",
    "gk         = pd.read_pickle('./data/2020_06_27/gk.p')\n",
    "gk_adv     = pd.read_pickle('./data/2020_06_27/gk_adv.p')\n",
    "playtime   = pd.read_pickle('./data/2020_06_27/playing_time.p')"
   ]
  },
  {
   "cell_type": "code",
   "execution_count": null,
   "metadata": {},
   "outputs": [],
   "source": []
  },
  {
   "cell_type": "markdown",
   "metadata": {},
   "source": [
    "## Remove Empty Rows"
   ]
  },
  {
   "cell_type": "code",
   "execution_count": 3,
   "metadata": {},
   "outputs": [],
   "source": [
    "def remove_empty_rows(df):\n",
    "    df = df.loc[df[('Unnamed: 1_level_0', 'Player')] != 'Player']\n",
    "    return df"
   ]
  },
  {
   "cell_type": "code",
   "execution_count": 4,
   "metadata": {},
   "outputs": [],
   "source": [
    "general    = remove_empty_rows(general) \n",
    "shoting    = remove_empty_rows(shoting)\n",
    "passing    = remove_empty_rows(passing)\n",
    "pass_types = remove_empty_rows(pass_types)\n",
    "possession = remove_empty_rows(possession)\n",
    "defense    = remove_empty_rows(defense)\n",
    "gk         = remove_empty_rows(gk)\n",
    "gk_adv     = remove_empty_rows(gk_adv)"
   ]
  },
  {
   "cell_type": "markdown",
   "metadata": {},
   "source": [
    "## Remove multiplicated columns "
   ]
  },
  {
   "cell_type": "markdown",
   "metadata": {},
   "source": [
    "Some columns were repeated in generated dataframes, so let's ger rid of them"
   ]
  },
  {
   "cell_type": "code",
   "execution_count": 5,
   "metadata": {},
   "outputs": [],
   "source": [
    "cols_todrop = [('Unnamed: 0_level_0', 'Rk'),\n",
    " ('Unnamed: 2_level_0', 'Nation'),\n",
    " ('Unnamed: 3_level_0', 'Pos'),\n",
    " ('Unnamed: 4_level_0', 'Squad'),\n",
    " ('Unnamed: 5_level_0', 'Comp'),\n",
    " ('Unnamed: 6_level_0', 'Age'),\n",
    " ('Unnamed: 7_level_0', 'Born'),\n",
    " ('Unnamed: 8_level_0', '90s')]"
   ]
  },
  {
   "cell_type": "code",
   "execution_count": 6,
   "metadata": {},
   "outputs": [],
   "source": [
    "dataframes = [\n",
    "                shoting   ,\n",
    "                passing   ,\n",
    "                pass_types,\n",
    "                possession,\n",
    "                defense   ,\n",
    "                gk        ,\n",
    "                gk_adv,\n",
    "                playtime\n",
    "]"
   ]
  },
  {
   "cell_type": "code",
   "execution_count": 7,
   "metadata": {},
   "outputs": [],
   "source": [
    "for df in dataframes:\n",
    "    df.drop(labels=cols_todrop, axis=1, errors='ignore', inplace=True)\n",
    "    df.drop(columns=[x for x in df.columns if 'Matches' in x], inplace=True)"
   ]
  },
  {
   "cell_type": "markdown",
   "metadata": {},
   "source": [
    "## Set player name as index "
   ]
  },
  {
   "cell_type": "code",
   "execution_count": 8,
   "metadata": {},
   "outputs": [],
   "source": [
    "colplayer = ( 'Unnamed: 1_level_0',  'Player')"
   ]
  },
  {
   "cell_type": "code",
   "execution_count": 9,
   "metadata": {},
   "outputs": [],
   "source": [
    "for df in dataframes:\n",
    "    df.set_index(colplayer, inplace=True)"
   ]
  },
  {
   "cell_type": "code",
   "execution_count": 10,
   "metadata": {},
   "outputs": [],
   "source": [
    "general.set_index(colplayer, inplace=True)"
   ]
  },
  {
   "cell_type": "markdown",
   "metadata": {},
   "source": [
    "### prepare to merge datasets "
   ]
  },
  {
   "cell_type": "markdown",
   "metadata": {},
   "source": [
    "I want to count number of columns in all dataframes before I merge them into one"
   ]
  },
  {
   "cell_type": "code",
   "execution_count": 33,
   "metadata": {},
   "outputs": [
    {
     "data": {
      "text/plain": [
       "46"
      ]
     },
     "execution_count": 33,
     "metadata": {},
     "output_type": "execute_result"
    }
   ],
   "source": []
  },
  {
   "cell_type": "code",
   "execution_count": 11,
   "metadata": {},
   "outputs": [],
   "source": [
    "df_columns_len = []\n",
    "for df in dataframes:\n",
    "    df_columns_len.append(len(df.columns))"
   ]
  },
  {
   "cell_type": "code",
   "execution_count": 12,
   "metadata": {},
   "outputs": [
    {
     "data": {
      "text/plain": [
       "168"
      ]
     },
     "execution_count": 12,
     "metadata": {},
     "output_type": "execute_result"
    }
   ],
   "source": [
    "sum(df_columns_len)"
   ]
  },
  {
   "cell_type": "markdown",
   "metadata": {},
   "source": [
    "### Merge datasets"
   ]
  },
  {
   "cell_type": "markdown",
   "metadata": {},
   "source": [
    "#### Field Players"
   ]
  },
  {
   "cell_type": "code",
   "execution_count": 13,
   "metadata": {},
   "outputs": [],
   "source": [
    "t = pd.merge(general, shoting, left_index=True, right_index=True)"
   ]
  },
  {
   "cell_type": "code",
   "execution_count": 14,
   "metadata": {},
   "outputs": [],
   "source": [
    "t1 = pd.merge(t, playtime, left_index=True, right_index=True)"
   ]
  },
  {
   "cell_type": "code",
   "execution_count": 15,
   "metadata": {},
   "outputs": [],
   "source": [
    "m2 = pd.merge(t1, passing, left_index=True, right_index=True)"
   ]
  },
  {
   "cell_type": "code",
   "execution_count": 16,
   "metadata": {},
   "outputs": [],
   "source": [
    "m3 = pd.merge(m2, pass_types, left_index=True, right_index=True)"
   ]
  },
  {
   "cell_type": "code",
   "execution_count": 17,
   "metadata": {},
   "outputs": [],
   "source": [
    "m4 = pd.merge(m3, possession, left_index=True, right_index=True)"
   ]
  },
  {
   "cell_type": "code",
   "execution_count": 18,
   "metadata": {},
   "outputs": [],
   "source": [
    "m5 = pd.merge(m4, defense, left_index=True, right_index=True)"
   ]
  },
  {
   "cell_type": "code",
   "execution_count": 19,
   "metadata": {},
   "outputs": [],
   "source": [
    "result = m5"
   ]
  },
  {
   "cell_type": "code",
   "execution_count": 20,
   "metadata": {},
   "outputs": [],
   "source": [
    "result.to_pickle('./data/2020_06_27/merged_data.p')"
   ]
  },
  {
   "cell_type": "markdown",
   "metadata": {},
   "source": [
    "#### Goalkeepers"
   ]
  },
  {
   "cell_type": "code",
   "execution_count": 21,
   "metadata": {},
   "outputs": [],
   "source": [
    "gkm = pd.merge(gk, gk_adv, left_index=True, right_index=True)"
   ]
  },
  {
   "cell_type": "code",
   "execution_count": 22,
   "metadata": {},
   "outputs": [],
   "source": [
    "gkm.to_pickle('./data/2020_06_27/merged_gk.p')"
   ]
  },
  {
   "cell_type": "markdown",
   "metadata": {},
   "source": [
    "## Convert to numeric values"
   ]
  },
  {
   "cell_type": "code",
   "execution_count": 23,
   "metadata": {},
   "outputs": [],
   "source": [
    "df = result"
   ]
  },
  {
   "cell_type": "code",
   "execution_count": 57,
   "metadata": {},
   "outputs": [
    {
     "data": {
      "text/plain": [
       "[('Unnamed: 0_level_0', 'Rk'),\n",
       " ('Unnamed: 2_level_0', 'Nation'),\n",
       " ('Unnamed: 3_level_0', 'Pos'),\n",
       " ('Unnamed: 4_level_0', 'Squad'),\n",
       " ('Unnamed: 5_level_0', 'Comp'),\n",
       " ('Unnamed: 6_level_0', 'Age'),\n",
       " ('Unnamed: 7_level_0', 'Born'),\n",
       " ('Playing Time_x', 'MP'),\n",
       " ('Playing Time_x', 'Starts'),\n",
       " ('Playing Time_x', 'Min'),\n",
       " ('Performance', 'Gls'),\n",
       " ('Performance', 'Ast'),\n",
       " ('Performance', 'PK'),\n",
       " ('Performance', 'PKatt'),\n",
       " ('Performance', 'CrdY'),\n",
       " ('Performance', 'CrdR'),\n",
       " ('Per 90 Minutes', 'Gls'),\n",
       " ('Per 90 Minutes', 'Ast'),\n",
       " ('Per 90 Minutes', 'G+A'),\n",
       " ('Per 90 Minutes', 'G-PK'),\n",
       " ('Per 90 Minutes', 'G+A-PK'),\n",
       " ('Expected_x', 'xG'),\n",
       " ('Expected_x', 'npxG'),\n",
       " ('Expected_x', 'xA'),\n",
       " ('Per 90 Minutes', 'xG'),\n",
       " ('Per 90 Minutes', 'xA'),\n",
       " ('Per 90 Minutes', 'xG+xA'),\n",
       " ('Per 90 Minutes', 'npxG'),\n",
       " ('Per 90 Minutes', 'npxG+xA'),\n",
       " ('Unnamed: 30_level_0', 'Matches'),\n",
       " ('Standard', 'Gls'),\n",
       " ('Standard', 'PK'),\n",
       " ('Standard', 'PKatt'),\n",
       " ('Standard', 'Sh'),\n",
       " ('Standard', 'SoT'),\n",
       " ('Standard', 'FK'),\n",
       " ('Standard', 'SoT%'),\n",
       " ('Standard', 'Sh/90'),\n",
       " ('Standard', 'SoT/90'),\n",
       " ('Standard', 'G/Sh'),\n",
       " ('Standard', 'G/SoT'),\n",
       " ('Expected_y', 'xG'),\n",
       " ('Expected_y', 'npxG'),\n",
       " ('Expected_y', 'npxG/Sh'),\n",
       " ('Expected_y', 'G-xG'),\n",
       " ('Expected_y', 'np:G-xG'),\n",
       " ('Playing Time_y', 'MP'),\n",
       " ('Playing Time_y', 'Min'),\n",
       " ('Playing Time_y', 'Mn/MP'),\n",
       " ('Playing Time_y', 'Min%'),\n",
       " ('Playing Time_y', '90s'),\n",
       " ('Starts', 'Starts'),\n",
       " ('Starts', 'Mn/Start'),\n",
       " ('Subs', 'Subs'),\n",
       " ('Subs', 'Mn/Sub'),\n",
       " ('Subs', 'unSub'),\n",
       " ('Team Success', 'PPM'),\n",
       " ('Team Success', 'onG'),\n",
       " ('Team Success', 'onGA'),\n",
       " ('Team Success', '+/-'),\n",
       " ('Team Success', '+/-90'),\n",
       " ('Team Success', 'On-Off'),\n",
       " ('Team Success (xG)', 'onxG'),\n",
       " ('Team Success (xG)', 'onxGA'),\n",
       " ('Team Success (xG)', 'xG+/-'),\n",
       " ('Team Success (xG)', 'xG+/-90'),\n",
       " ('Team Success (xG)', 'On-Off'),\n",
       " ('Total', 'Cmp'),\n",
       " ('Total', 'Att'),\n",
       " ('Total', 'Cmp%'),\n",
       " ('Total', 'TotDist'),\n",
       " ('Total', 'PrgDist'),\n",
       " ('Short', 'Cmp'),\n",
       " ('Short', 'Att'),\n",
       " ('Short', 'Cmp%'),\n",
       " ('Medium', 'Cmp'),\n",
       " ('Medium', 'Att'),\n",
       " ('Medium', 'Cmp%'),\n",
       " ('Long', 'Cmp'),\n",
       " ('Long', 'Att'),\n",
       " ('Long', 'Cmp%'),\n",
       " ('Unnamed: 23_level_0', 'Ast'),\n",
       " ('Unnamed: 24_level_0', 'xA'),\n",
       " ('Unnamed: 25_level_0', 'A-xA'),\n",
       " ('Unnamed: 26_level_0', 'KP'),\n",
       " ('Unnamed: 27_level_0', '1/3'),\n",
       " ('Unnamed: 28_level_0', 'PPA'),\n",
       " ('Unnamed: 29_level_0', 'CrsPA'),\n",
       " ('Unnamed: 30_level_0', 'Prog'),\n",
       " ('Unnamed: 9_level_0', 'Att'),\n",
       " ('Pass Types', 'Live'),\n",
       " ('Pass Types', 'Dead'),\n",
       " ('Pass Types', 'FK'),\n",
       " ('Pass Types', 'TB'),\n",
       " ('Pass Types', 'Press'),\n",
       " ('Pass Types', 'Sw'),\n",
       " ('Pass Types', 'Crs'),\n",
       " ('Pass Types', 'CK'),\n",
       " ('Corner Kicks', 'In'),\n",
       " ('Corner Kicks', 'Out'),\n",
       " ('Corner Kicks', 'Str'),\n",
       " ('Height', 'Ground'),\n",
       " ('Height', 'Low'),\n",
       " ('Height', 'High'),\n",
       " ('Body Parts', 'Left'),\n",
       " ('Body Parts', 'Right'),\n",
       " ('Body Parts', 'Head'),\n",
       " ('Body Parts', 'TI'),\n",
       " ('Body Parts', 'Other'),\n",
       " ('Outcomes', 'Cmp'),\n",
       " ('Outcomes', 'Off'),\n",
       " ('Outcomes', 'Out'),\n",
       " ('Outcomes', 'Int'),\n",
       " ('Outcomes', 'Blocks'),\n",
       " ('Touches', 'Touches'),\n",
       " ('Touches', 'Def Pen'),\n",
       " ('Touches', 'Def 3rd'),\n",
       " ('Touches', 'Mid 3rd'),\n",
       " ('Touches', 'Att 3rd'),\n",
       " ('Touches', 'Att Pen'),\n",
       " ('Touches', 'Live'),\n",
       " ('Dribbles', 'Succ'),\n",
       " ('Dribbles', 'Att'),\n",
       " ('Dribbles', 'Succ%'),\n",
       " ('Dribbles', '#Pl'),\n",
       " ('Dribbles', 'Megs'),\n",
       " ('Carries', 'Carries'),\n",
       " ('Carries', 'TotDist'),\n",
       " ('Carries', 'PrgDist'),\n",
       " ('Receiving', 'Targ'),\n",
       " ('Receiving', 'Rec'),\n",
       " ('Receiving', 'Rec%'),\n",
       " ('Unnamed: 27_level_0', 'Miscon'),\n",
       " ('Unnamed: 28_level_0', 'Dispos'),\n",
       " ('Tackles', 'Tkl'),\n",
       " ('Tackles', 'TklW'),\n",
       " ('Tackles', 'Def 3rd'),\n",
       " ('Tackles', 'Mid 3rd'),\n",
       " ('Tackles', 'Att 3rd'),\n",
       " ('Vs Dribbles', 'Tkl'),\n",
       " ('Vs Dribbles', 'Att'),\n",
       " ('Vs Dribbles', 'Tkl%'),\n",
       " ('Vs Dribbles', 'Past'),\n",
       " ('Pressures', 'Press'),\n",
       " ('Pressures', 'Succ'),\n",
       " ('Pressures', '%'),\n",
       " ('Pressures', 'Def 3rd'),\n",
       " ('Pressures', 'Mid 3rd'),\n",
       " ('Pressures', 'Att 3rd'),\n",
       " ('Blocks', 'Blocks'),\n",
       " ('Blocks', 'Sh'),\n",
       " ('Blocks', 'ShSv'),\n",
       " ('Blocks', 'Pass'),\n",
       " ('Unnamed: 28_level_0', 'Int'),\n",
       " ('Unnamed: 29_level_0', 'Clr'),\n",
       " ('Unnamed: 30_level_0', 'Err')]"
      ]
     },
     "execution_count": 57,
     "metadata": {},
     "output_type": "execute_result"
    }
   ],
   "source": [
    "[x for x in df.columns]"
   ]
  },
  {
   "cell_type": "code",
   "execution_count": 24,
   "metadata": {},
   "outputs": [],
   "source": [
    "df.drop(columns=[x for x in df.columns if 'Matches' in x], inplace=True)"
   ]
  },
  {
   "cell_type": "code",
   "execution_count": 25,
   "metadata": {},
   "outputs": [],
   "source": [
    "non_num_cols = [(   'Unnamed: 2_level_0',  'Nation'),\n",
    "            (   'Unnamed: 3_level_0',     'Pos'),\n",
    "            (   'Unnamed: 4_level_0',   'Squad'),\n",
    "            (   'Unnamed: 5_level_0',    'Comp')]"
   ]
  },
  {
   "cell_type": "code",
   "execution_count": 26,
   "metadata": {},
   "outputs": [],
   "source": [
    "for column in df.columns:\n",
    "    if column not in non_num_cols:\n",
    "        df[column] = pd.to_numeric(df[column])"
   ]
  },
  {
   "cell_type": "markdown",
   "metadata": {},
   "source": [
    "# columns cleaning"
   ]
  },
  {
   "cell_type": "code",
   "execution_count": 27,
   "metadata": {},
   "outputs": [],
   "source": [
    "#position\n",
    "positions = df[('Unnamed: 3_level_0', 'Pos')].str.split(',', expand=True)\n",
    "df[('Position', 'Pos')] = positions[0]\n",
    "df[('Position', 'Alt')] = positions[1]"
   ]
  },
  {
   "cell_type": "code",
   "execution_count": 28,
   "metadata": {},
   "outputs": [],
   "source": [
    "df[('info', 'Player')] = df.index"
   ]
  },
  {
   "cell_type": "code",
   "execution_count": 29,
   "metadata": {},
   "outputs": [],
   "source": [
    "#league - get rid of country name at the begining\n",
    "df[('info', 'league')] = [x.split(' ', 1)[1] for x in df[('Unnamed: 5_level_0', 'Comp')]]"
   ]
  },
  {
   "cell_type": "code",
   "execution_count": 67,
   "metadata": {},
   "outputs": [
    {
     "data": {
      "text/plain": [
       "[('Unnamed: 0_level_0', 'Rk'),\n",
       " ('Unnamed: 2_level_0', 'Nation'),\n",
       " ('Unnamed: 3_level_0', 'Pos'),\n",
       " ('Unnamed: 4_level_0', 'Squad'),\n",
       " ('Unnamed: 5_level_0', 'Comp'),\n",
       " ('Unnamed: 6_level_0', 'Age'),\n",
       " ('Unnamed: 7_level_0', 'Born'),\n",
       " ('Playing Time_x', 'MP'),\n",
       " ('Playing Time_x', 'Starts'),\n",
       " ('Playing Time_x', 'Min'),\n",
       " ('Performance', 'Gls'),\n",
       " ('Performance', 'Ast'),\n",
       " ('Performance', 'PK'),\n",
       " ('Performance', 'PKatt'),\n",
       " ('Performance', 'CrdY'),\n",
       " ('Performance', 'CrdR'),\n",
       " ('Per 90 Minutes', 'Gls'),\n",
       " ('Per 90 Minutes', 'Ast'),\n",
       " ('Per 90 Minutes', 'G+A'),\n",
       " ('Per 90 Minutes', 'G-PK'),\n",
       " ('Per 90 Minutes', 'G+A-PK'),\n",
       " ('Expected_x', 'xG'),\n",
       " ('Expected_x', 'npxG'),\n",
       " ('Expected_x', 'xA'),\n",
       " ('Per 90 Minutes', 'xG'),\n",
       " ('Per 90 Minutes', 'xA'),\n",
       " ('Per 90 Minutes', 'xG+xA'),\n",
       " ('Per 90 Minutes', 'npxG'),\n",
       " ('Per 90 Minutes', 'npxG+xA'),\n",
       " ('Standard', 'Gls'),\n",
       " ('Standard', 'PK'),\n",
       " ('Standard', 'PKatt'),\n",
       " ('Standard', 'Sh'),\n",
       " ('Standard', 'SoT'),\n",
       " ('Standard', 'FK'),\n",
       " ('Standard', 'SoT%'),\n",
       " ('Standard', 'Sh/90'),\n",
       " ('Standard', 'SoT/90'),\n",
       " ('Standard', 'G/Sh'),\n",
       " ('Standard', 'G/SoT'),\n",
       " ('Expected_y', 'xG'),\n",
       " ('Expected_y', 'npxG'),\n",
       " ('Expected_y', 'npxG/Sh'),\n",
       " ('Expected_y', 'G-xG'),\n",
       " ('Expected_y', 'np:G-xG'),\n",
       " ('Playing Time_y', 'MP'),\n",
       " ('Playing Time_y', 'Min'),\n",
       " ('Playing Time_y', 'Mn/MP'),\n",
       " ('Playing Time_y', 'Min%'),\n",
       " ('Playing Time_y', '90s'),\n",
       " ('Starts', 'Starts'),\n",
       " ('Starts', 'Mn/Start'),\n",
       " ('Subs', 'Subs'),\n",
       " ('Subs', 'Mn/Sub'),\n",
       " ('Subs', 'unSub'),\n",
       " ('Team Success', 'PPM'),\n",
       " ('Team Success', 'onG'),\n",
       " ('Team Success', 'onGA'),\n",
       " ('Team Success', '+/-'),\n",
       " ('Team Success', '+/-90'),\n",
       " ('Team Success', 'On-Off'),\n",
       " ('Team Success (xG)', 'onxG'),\n",
       " ('Team Success (xG)', 'onxGA'),\n",
       " ('Team Success (xG)', 'xG+/-'),\n",
       " ('Team Success (xG)', 'xG+/-90'),\n",
       " ('Team Success (xG)', 'On-Off'),\n",
       " ('Total', 'Cmp'),\n",
       " ('Total', 'Att'),\n",
       " ('Total', 'Cmp%'),\n",
       " ('Total', 'TotDist'),\n",
       " ('Total', 'PrgDist'),\n",
       " ('Short', 'Cmp'),\n",
       " ('Short', 'Att'),\n",
       " ('Short', 'Cmp%'),\n",
       " ('Medium', 'Cmp'),\n",
       " ('Medium', 'Att'),\n",
       " ('Medium', 'Cmp%'),\n",
       " ('Long', 'Cmp'),\n",
       " ('Long', 'Att'),\n",
       " ('Long', 'Cmp%'),\n",
       " ('Unnamed: 23_level_0', 'Ast'),\n",
       " ('Unnamed: 24_level_0', 'xA'),\n",
       " ('Unnamed: 25_level_0', 'A-xA'),\n",
       " ('Unnamed: 26_level_0', 'KP'),\n",
       " ('Unnamed: 27_level_0', '1/3'),\n",
       " ('Unnamed: 28_level_0', 'PPA'),\n",
       " ('Unnamed: 29_level_0', 'CrsPA'),\n",
       " ('Unnamed: 30_level_0', 'Prog'),\n",
       " ('Unnamed: 9_level_0', 'Att'),\n",
       " ('Pass Types', 'Live'),\n",
       " ('Pass Types', 'Dead'),\n",
       " ('Pass Types', 'FK'),\n",
       " ('Pass Types', 'TB'),\n",
       " ('Pass Types', 'Press'),\n",
       " ('Pass Types', 'Sw'),\n",
       " ('Pass Types', 'Crs'),\n",
       " ('Pass Types', 'CK'),\n",
       " ('Corner Kicks', 'In'),\n",
       " ('Corner Kicks', 'Out'),\n",
       " ('Corner Kicks', 'Str'),\n",
       " ('Height', 'Ground'),\n",
       " ('Height', 'Low'),\n",
       " ('Height', 'High'),\n",
       " ('Body Parts', 'Left'),\n",
       " ('Body Parts', 'Right'),\n",
       " ('Body Parts', 'Head'),\n",
       " ('Body Parts', 'TI'),\n",
       " ('Body Parts', 'Other'),\n",
       " ('Outcomes', 'Cmp'),\n",
       " ('Outcomes', 'Off'),\n",
       " ('Outcomes', 'Out'),\n",
       " ('Outcomes', 'Int'),\n",
       " ('Outcomes', 'Blocks'),\n",
       " ('Touches', 'Touches'),\n",
       " ('Touches', 'Def Pen'),\n",
       " ('Touches', 'Def 3rd'),\n",
       " ('Touches', 'Mid 3rd'),\n",
       " ('Touches', 'Att 3rd'),\n",
       " ('Touches', 'Att Pen'),\n",
       " ('Touches', 'Live'),\n",
       " ('Dribbles', 'Succ'),\n",
       " ('Dribbles', 'Att'),\n",
       " ('Dribbles', 'Succ%'),\n",
       " ('Dribbles', '#Pl'),\n",
       " ('Dribbles', 'Megs'),\n",
       " ('Carries', 'Carries'),\n",
       " ('Carries', 'TotDist'),\n",
       " ('Carries', 'PrgDist'),\n",
       " ('Receiving', 'Targ'),\n",
       " ('Receiving', 'Rec'),\n",
       " ('Receiving', 'Rec%'),\n",
       " ('Unnamed: 27_level_0', 'Miscon'),\n",
       " ('Unnamed: 28_level_0', 'Dispos'),\n",
       " ('Tackles', 'Tkl'),\n",
       " ('Tackles', 'TklW'),\n",
       " ('Tackles', 'Def 3rd'),\n",
       " ('Tackles', 'Mid 3rd'),\n",
       " ('Tackles', 'Att 3rd'),\n",
       " ('Vs Dribbles', 'Tkl'),\n",
       " ('Vs Dribbles', 'Att'),\n",
       " ('Vs Dribbles', 'Tkl%'),\n",
       " ('Vs Dribbles', 'Past'),\n",
       " ('Pressures', 'Press'),\n",
       " ('Pressures', 'Succ'),\n",
       " ('Pressures', '%'),\n",
       " ('Pressures', 'Def 3rd'),\n",
       " ('Pressures', 'Mid 3rd'),\n",
       " ('Pressures', 'Att 3rd'),\n",
       " ('Blocks', 'Blocks'),\n",
       " ('Blocks', 'Sh'),\n",
       " ('Blocks', 'ShSv'),\n",
       " ('Blocks', 'Pass'),\n",
       " ('Unnamed: 28_level_0', 'Int'),\n",
       " ('Unnamed: 29_level_0', 'Clr'),\n",
       " ('Unnamed: 30_level_0', 'Err'),\n",
       " ('Position', 'Pos'),\n",
       " ('Position', 'Alt'),\n",
       " ('info', 'Player'),\n",
       " ('info', 'league')]"
      ]
     },
     "execution_count": 67,
     "metadata": {},
     "output_type": "execute_result"
    }
   ],
   "source": [
    "[x for x in df.columns]"
   ]
  },
  {
   "cell_type": "code",
   "execution_count": 30,
   "metadata": {},
   "outputs": [],
   "source": [
    "df.to_pickle('./data/2020_06_27/merged_fieldplayers.p')"
   ]
  }
 ],
 "metadata": {
  "kernelspec": {
   "display_name": "Python 3",
   "language": "python",
   "name": "python3"
  },
  "language_info": {
   "codemirror_mode": {
    "name": "ipython",
    "version": 3
   },
   "file_extension": ".py",
   "mimetype": "text/x-python",
   "name": "python",
   "nbconvert_exporter": "python",
   "pygments_lexer": "ipython3",
   "version": "3.8.3"
  }
 },
 "nbformat": 4,
 "nbformat_minor": 4
}
