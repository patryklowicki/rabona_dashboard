{
 "cells": [
  {
   "cell_type": "code",
   "execution_count": 1,
   "metadata": {},
   "outputs": [],
   "source": [
    "import pandas as pd"
   ]
  },
  {
   "cell_type": "code",
   "execution_count": 3,
   "metadata": {},
   "outputs": [],
   "source": [
    "gk = pd.read_pickle(r'./data/2020_06_27/merged_gk.p')"
   ]
  },
  {
   "cell_type": "code",
   "execution_count": 5,
   "metadata": {},
   "outputs": [],
   "source": [
    "df = pd.read_pickle(r'./data/2020_06_27/merged_fieldplayers.p')"
   ]
  },
  {
   "cell_type": "code",
   "execution_count": 6,
   "metadata": {},
   "outputs": [],
   "source": [
    "for column in gk.columns:\n",
    "    gk[column] = pd.to_numeric(gk[column])"
   ]
  },
  {
   "cell_type": "code",
   "execution_count": 7,
   "metadata": {},
   "outputs": [],
   "source": [
    "merged = pd.merge(df, gk, left_index=True, right_index=True, how='left')"
   ]
  },
  {
   "cell_type": "code",
   "execution_count": 12,
   "metadata": {},
   "outputs": [],
   "source": [
    "gkcols = [x for x in gk.columns if x not in info_columns]"
   ]
  },
  {
   "cell_type": "code",
   "execution_count": 13,
   "metadata": {},
   "outputs": [
    {
     "data": {
      "text/html": [
       "<div>\n",
       "<style scoped>\n",
       "    .dataframe tbody tr th:only-of-type {\n",
       "        vertical-align: middle;\n",
       "    }\n",
       "\n",
       "    .dataframe tbody tr th {\n",
       "        vertical-align: top;\n",
       "    }\n",
       "\n",
       "    .dataframe thead tr th {\n",
       "        text-align: left;\n",
       "    }\n",
       "\n",
       "    .dataframe thead tr:last-of-type th {\n",
       "        text-align: right;\n",
       "    }\n",
       "</style>\n",
       "<table border=\"1\" class=\"dataframe\">\n",
       "  <thead>\n",
       "    <tr>\n",
       "      <th></th>\n",
       "      <th colspan=\"3\" halign=\"left\">Playing Time</th>\n",
       "      <th colspan=\"7\" halign=\"left\">Performance</th>\n",
       "      <th>...</th>\n",
       "      <th>Passes</th>\n",
       "      <th colspan=\"3\" halign=\"left\">Goal Kicks</th>\n",
       "      <th colspan=\"3\" halign=\"left\">Crosses</th>\n",
       "      <th colspan=\"3\" halign=\"left\">Sweeper</th>\n",
       "    </tr>\n",
       "    <tr>\n",
       "      <th></th>\n",
       "      <th>MP</th>\n",
       "      <th>Starts</th>\n",
       "      <th>Min</th>\n",
       "      <th>GA</th>\n",
       "      <th>GA90</th>\n",
       "      <th>SoTA</th>\n",
       "      <th>Saves</th>\n",
       "      <th>Save%</th>\n",
       "      <th>W</th>\n",
       "      <th>D</th>\n",
       "      <th>...</th>\n",
       "      <th>AvgLen</th>\n",
       "      <th>Att</th>\n",
       "      <th>Launch%</th>\n",
       "      <th>AvgLen</th>\n",
       "      <th>Opp</th>\n",
       "      <th>Stp</th>\n",
       "      <th>Stp%</th>\n",
       "      <th>#OPA</th>\n",
       "      <th>#OPA/90</th>\n",
       "      <th>AvgDist</th>\n",
       "    </tr>\n",
       "    <tr>\n",
       "      <th>(Unnamed: 1_level_0, Player)</th>\n",
       "      <th></th>\n",
       "      <th></th>\n",
       "      <th></th>\n",
       "      <th></th>\n",
       "      <th></th>\n",
       "      <th></th>\n",
       "      <th></th>\n",
       "      <th></th>\n",
       "      <th></th>\n",
       "      <th></th>\n",
       "      <th></th>\n",
       "      <th></th>\n",
       "      <th></th>\n",
       "      <th></th>\n",
       "      <th></th>\n",
       "      <th></th>\n",
       "      <th></th>\n",
       "      <th></th>\n",
       "      <th></th>\n",
       "      <th></th>\n",
       "      <th></th>\n",
       "    </tr>\n",
       "  </thead>\n",
       "  <tbody>\n",
       "    <tr>\n",
       "      <th>Alisson</th>\n",
       "      <td>22.0</td>\n",
       "      <td>22.0</td>\n",
       "      <td>1913.0</td>\n",
       "      <td>11.0</td>\n",
       "      <td>0.52</td>\n",
       "      <td>59.0</td>\n",
       "      <td>48.0</td>\n",
       "      <td>0.814</td>\n",
       "      <td>19.0</td>\n",
       "      <td>2.0</td>\n",
       "      <td>...</td>\n",
       "      <td>32.0</td>\n",
       "      <td>136.0</td>\n",
       "      <td>40.4</td>\n",
       "      <td>39.4</td>\n",
       "      <td>147.0</td>\n",
       "      <td>10.0</td>\n",
       "      <td>6.8</td>\n",
       "      <td>24.0</td>\n",
       "      <td>1.13</td>\n",
       "      <td>16.9</td>\n",
       "    </tr>\n",
       "  </tbody>\n",
       "</table>\n",
       "<p>1 rows × 42 columns</p>\n",
       "</div>"
      ],
      "text/plain": [
       "                             Playing Time                Performance        \\\n",
       "                                       MP Starts     Min          GA  GA90   \n",
       "(Unnamed: 1_level_0, Player)                                                 \n",
       "Alisson                              22.0   22.0  1913.0        11.0  0.52   \n",
       "\n",
       "                                                            ... Passes  \\\n",
       "                              SoTA Saves  Save%     W    D  ... AvgLen   \n",
       "(Unnamed: 1_level_0, Player)                                ...          \n",
       "Alisson                       59.0  48.0  0.814  19.0  2.0  ...   32.0   \n",
       "\n",
       "                             Goal Kicks                Crosses             \\\n",
       "                                    Att Launch% AvgLen     Opp   Stp Stp%   \n",
       "(Unnamed: 1_level_0, Player)                                                \n",
       "Alisson                           136.0    40.4   39.4   147.0  10.0  6.8   \n",
       "\n",
       "                             Sweeper                  \n",
       "                                #OPA #OPA/90 AvgDist  \n",
       "(Unnamed: 1_level_0, Player)                          \n",
       "Alisson                         24.0    1.13    16.9  \n",
       "\n",
       "[1 rows x 42 columns]"
      ]
     },
     "execution_count": 13,
     "metadata": {},
     "output_type": "execute_result"
    }
   ],
   "source": [
    "merged.loc[merged.index=='Alisson'][gkcols]"
   ]
  },
  {
   "cell_type": "code",
   "execution_count": 14,
   "metadata": {},
   "outputs": [],
   "source": [
    "for column in gk.columns:\n",
    "    gk[column] = pd.to_numeric(gk[column])"
   ]
  },
  {
   "cell_type": "code",
   "execution_count": 10,
   "metadata": {},
   "outputs": [],
   "source": [
    "info_columns = [('Unnamed: 2_level_0', 'Nation'),\n",
    "                  ('Unnamed: 3_level_0', 'Pos'),\n",
    "                  ('Unnamed: 4_level_0', 'Squad'),\n",
    "                  ('Unnamed: 5_level_0', 'Comp'),\n",
    "                  ('Playing Time_x', 'MP'),\n",
    "                  ('Playing Time_x', 'Starts'),\n",
    "                  ('Playing Time_x', 'Min'),\n",
    "                  ('Playing Time_y', 'Min%'),\n",
    "                  ('Performance', 'Gls'),\n",
    "                  ('Performance', 'Ast')\n",
    "                ]"
   ]
  },
  {
   "cell_type": "code",
   "execution_count": 16,
   "metadata": {},
   "outputs": [
    {
     "data": {
      "text/html": [
       "<div>\n",
       "<style scoped>\n",
       "    .dataframe tbody tr th:only-of-type {\n",
       "        vertical-align: middle;\n",
       "    }\n",
       "\n",
       "    .dataframe tbody tr th {\n",
       "        vertical-align: top;\n",
       "    }\n",
       "\n",
       "    .dataframe thead tr th {\n",
       "        text-align: left;\n",
       "    }\n",
       "\n",
       "    .dataframe thead tr:last-of-type th {\n",
       "        text-align: right;\n",
       "    }\n",
       "</style>\n",
       "<table border=\"1\" class=\"dataframe\">\n",
       "  <thead>\n",
       "    <tr>\n",
       "      <th></th>\n",
       "      <th>Unnamed: 2_level_0</th>\n",
       "      <th>Unnamed: 3_level_0</th>\n",
       "      <th>Unnamed: 4_level_0</th>\n",
       "      <th>Unnamed: 5_level_0</th>\n",
       "      <th colspan=\"3\" halign=\"left\">Playing Time_x</th>\n",
       "      <th>Playing Time_y</th>\n",
       "      <th colspan=\"2\" halign=\"left\">Performance</th>\n",
       "    </tr>\n",
       "    <tr>\n",
       "      <th></th>\n",
       "      <th>Nation</th>\n",
       "      <th>Pos</th>\n",
       "      <th>Squad</th>\n",
       "      <th>Comp</th>\n",
       "      <th>MP</th>\n",
       "      <th>Starts</th>\n",
       "      <th>Min</th>\n",
       "      <th>Min%</th>\n",
       "      <th>Gls</th>\n",
       "      <th>Ast</th>\n",
       "    </tr>\n",
       "    <tr>\n",
       "      <th>(Unnamed: 1_level_0, Player)</th>\n",
       "      <th></th>\n",
       "      <th></th>\n",
       "      <th></th>\n",
       "      <th></th>\n",
       "      <th></th>\n",
       "      <th></th>\n",
       "      <th></th>\n",
       "      <th></th>\n",
       "      <th></th>\n",
       "      <th></th>\n",
       "    </tr>\n",
       "  </thead>\n",
       "  <tbody>\n",
       "    <tr>\n",
       "      <th>Robert Lewandowski</th>\n",
       "      <td>pl POL</td>\n",
       "      <td>FW</td>\n",
       "      <td>Bayern Munich</td>\n",
       "      <td>de Bundesliga</td>\n",
       "      <td>30</td>\n",
       "      <td>30</td>\n",
       "      <td>2669</td>\n",
       "      <td>89.9</td>\n",
       "      <td>33</td>\n",
       "      <td>4</td>\n",
       "    </tr>\n",
       "  </tbody>\n",
       "</table>\n",
       "</div>"
      ],
      "text/plain": [
       "                             Unnamed: 2_level_0 Unnamed: 3_level_0  \\\n",
       "                                         Nation                Pos   \n",
       "(Unnamed: 1_level_0, Player)                                         \n",
       "Robert Lewandowski                       pl POL                 FW   \n",
       "\n",
       "                             Unnamed: 4_level_0 Unnamed: 5_level_0  \\\n",
       "                                          Squad               Comp   \n",
       "(Unnamed: 1_level_0, Player)                                         \n",
       "Robert Lewandowski                Bayern Munich      de Bundesliga   \n",
       "\n",
       "                             Playing Time_x              Playing Time_y  \\\n",
       "                                         MP Starts   Min           Min%   \n",
       "(Unnamed: 1_level_0, Player)                                              \n",
       "Robert Lewandowski                       30     30  2669           89.9   \n",
       "\n",
       "                             Performance      \n",
       "                                     Gls Ast  \n",
       "(Unnamed: 1_level_0, Player)                  \n",
       "Robert Lewandowski                    33   4  "
      ]
     },
     "execution_count": 16,
     "metadata": {},
     "output_type": "execute_result"
    }
   ],
   "source": [
    "merged.loc[merged.index=='Robert Lewandowski'][info_columns]"
   ]
  },
  {
   "cell_type": "code",
   "execution_count": 17,
   "metadata": {},
   "outputs": [],
   "source": [
    "gk_attributes = {\n",
    "    'Save %'                   : (  'Performance',    'Save%'),\n",
    "    'Clean sheet %'            : (  'Performance',      'CS%'),\n",
    "    'Crosses stopped %'        : (      'Crosses',     'Stp%'),\n",
    "    'Post Shot xG +/-'         : (     'Expected',  'PSxG+/-'),\n",
    "    \"Post Shot xG +/- per 90'\" : (     'Expected',      '/90'),\n",
    "    'Launches %'               : (     'Launched',     'Cmp%'),\n",
    "    'Long Passes %'            : (       'Passes',  'Launch%'),\n",
    "}"
   ]
  },
  {
   "cell_type": "code",
   "execution_count": 17,
   "metadata": {},
   "outputs": [],
   "source": [
    "merged.to_pickle(r'./data/2020_06_27/merged_players.p')"
   ]
  }
 ],
 "metadata": {
  "kernelspec": {
   "display_name": "Python 3",
   "language": "python",
   "name": "python3"
  },
  "language_info": {
   "codemirror_mode": {
    "name": "ipython",
    "version": 3
   },
   "file_extension": ".py",
   "mimetype": "text/x-python",
   "name": "python",
   "nbconvert_exporter": "python",
   "pygments_lexer": "ipython3",
   "version": "3.8.3"
  }
 },
 "nbformat": 4,
 "nbformat_minor": 4
}
