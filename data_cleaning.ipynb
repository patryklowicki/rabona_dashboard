{
 "cells": [
  {
   "cell_type": "code",
   "execution_count": 1,
   "metadata": {},
   "outputs": [],
   "source": [
    "import pandas as pd\n",
    "import numpy as np"
   ]
  },
  {
   "cell_type": "markdown",
   "metadata": {},
   "source": [
    "## Read data"
   ]
  },
  {
   "cell_type": "code",
   "execution_count": 23,
   "metadata": {},
   "outputs": [],
   "source": [
    "general    = pd.read_pickle('./data/general.p')\n",
    "shoting    = pd.read_pickle('./data/shoting.p')\n",
    "passing    = pd.read_pickle('./data/passing.p')\n",
    "pass_types = pd.read_pickle('./data/pass_types.p')\n",
    "possession = pd.read_pickle('./data/possession.p')\n",
    "defense    = pd.read_pickle('./data/defense.p')\n",
    "gk         = pd.read_pickle('./data/gk.p')\n",
    "gk_adv     = pd.read_pickle('./data/gk_adv.p')"
   ]
  },
  {
   "cell_type": "markdown",
   "metadata": {},
   "source": [
    "## Remove Empty Rows"
   ]
  },
  {
   "cell_type": "code",
   "execution_count": 26,
   "metadata": {},
   "outputs": [],
   "source": [
    "def remove_empty_rows(df):\n",
    "    df = df.loc[df[('Unnamed: 1_level_0', 'Player')] != 'Player']\n",
    "    return df"
   ]
  },
  {
   "cell_type": "code",
   "execution_count": 36,
   "metadata": {},
   "outputs": [],
   "source": [
    "general    = remove_empty_rows(general) \n",
    "shoting    = remove_empty_rows(shoting)\n",
    "passing    = remove_empty_rows(passing)\n",
    "pass_types = remove_empty_rows(pass_types)\n",
    "possession = remove_empty_rows(possession)\n",
    "defense    = remove_empty_rows(defense)\n",
    "gk         = remove_empty_rows(gk)\n",
    "gk_adv     = remove_empty_rows(gk_adv)"
   ]
  },
  {
   "cell_type": "markdown",
   "metadata": {},
   "source": [
    "## Remove multiplicated columns "
   ]
  },
  {
   "cell_type": "code",
   "execution_count": 44,
   "metadata": {},
   "outputs": [],
   "source": [
    "cols_todrop = [('Unnamed: 0_level_0', 'Rk'),\n",
    " ('Unnamed: 2_level_0', 'Nation'),\n",
    " ('Unnamed: 3_level_0', 'Pos'),\n",
    " ('Unnamed: 4_level_0', 'Squad'),\n",
    " ('Unnamed: 5_level_0', 'Comp'),\n",
    " ('Unnamed: 6_level_0', 'Age'),\n",
    " ('Unnamed: 7_level_0', 'Born'),\n",
    " ('Unnamed: 8_level_0', '90s')]"
   ]
  },
  {
   "cell_type": "code",
   "execution_count": 55,
   "metadata": {},
   "outputs": [
    {
     "data": {
      "text/plain": [
       "MultiIndex([( 'Unnamed: 1_level_0',  'Player'),\n",
       "            (           'Standard',     'Gls'),\n",
       "            (           'Standard',      'PK'),\n",
       "            (           'Standard',   'PKatt'),\n",
       "            (           'Standard',      'Sh'),\n",
       "            (           'Standard',     'SoT'),\n",
       "            (           'Standard',      'FK'),\n",
       "            (           'Standard',    'SoT%'),\n",
       "            (           'Standard',   'Sh/90'),\n",
       "            (           'Standard',  'SoT/90'),\n",
       "            (           'Standard',    'G/Sh'),\n",
       "            (           'Standard',   'G/SoT'),\n",
       "            (           'Expected',      'xG'),\n",
       "            (           'Expected',    'npxG'),\n",
       "            (           'Expected', 'npxG/Sh'),\n",
       "            (           'Expected',    'G-xG'),\n",
       "            (           'Expected', 'np:G-xG'),\n",
       "            ('Unnamed: 25_level_0', 'Matches')],\n",
       "           )"
      ]
     },
     "execution_count": 55,
     "metadata": {},
     "output_type": "execute_result"
    }
   ],
   "source": [
    "shoting.columns"
   ]
  },
  {
   "cell_type": "code",
   "execution_count": 110,
   "metadata": {},
   "outputs": [],
   "source": [
    "dataframes = [\n",
    "shoting   ,\n",
    "passing   ,\n",
    "pass_types,\n",
    "possession,\n",
    "defense   ,\n",
    "gk        ,\n",
    "gk_adv\n",
    "]"
   ]
  },
  {
   "cell_type": "code",
   "execution_count": 152,
   "metadata": {},
   "outputs": [
    {
     "name": "stderr",
     "output_type": "stream",
     "text": [
      "C:\\Users\\lowicki\\.conda\\envs\\rabona_env\\lib\\site-packages\\pandas\\core\\frame.py:3990: SettingWithCopyWarning: \n",
      "A value is trying to be set on a copy of a slice from a DataFrame\n",
      "\n",
      "See the caveats in the documentation: https://pandas.pydata.org/pandas-docs/stable/user_guide/indexing.html#returning-a-view-versus-a-copy\n",
      "  return super().drop(\n"
     ]
    }
   ],
   "source": [
    "for df in dataframes:\n",
    "    df.drop(labels=cols_todrop, axis=1, errors='ignore', inplace=True)\n",
    "    df.drop(columns=[x for x in df.columns if 'Matches' in x], inplace=True)"
   ]
  },
  {
   "cell_type": "code",
   "execution_count": null,
   "metadata": {},
   "outputs": [],
   "source": []
  },
  {
   "cell_type": "markdown",
   "metadata": {},
   "source": [
    "## Set player name as index "
   ]
  },
  {
   "cell_type": "code",
   "execution_count": 109,
   "metadata": {},
   "outputs": [],
   "source": [
    "colplayer = ( 'Unnamed: 1_level_0',  'Player')"
   ]
  },
  {
   "cell_type": "code",
   "execution_count": 111,
   "metadata": {},
   "outputs": [],
   "source": [
    "for df in dataframes:\n",
    "    df.set_index(colplayer, inplace=True)"
   ]
  },
  {
   "cell_type": "code",
   "execution_count": 127,
   "metadata": {},
   "outputs": [],
   "source": [
    "general.set_index(colplayer, inplace=True)"
   ]
  },
  {
   "cell_type": "code",
   "execution_count": 132,
   "metadata": {},
   "outputs": [],
   "source": [
    "t = pd.merge(general, shoting, left_index=True, right_index=True)"
   ]
  },
  {
   "cell_type": "code",
   "execution_count": 135,
   "metadata": {},
   "outputs": [],
   "source": [
    "m2 = pd.merge(t, passing, left_index=True, right_index=True)"
   ]
  },
  {
   "cell_type": "code",
   "execution_count": 137,
   "metadata": {},
   "outputs": [],
   "source": [
    "m3 = pd.merge(m2, pass_types, left_index=True, right_index=True)"
   ]
  },
  {
   "cell_type": "code",
   "execution_count": 138,
   "metadata": {},
   "outputs": [],
   "source": [
    "m4 = pd.merge(m3, possession, left_index=True, right_index=True)"
   ]
  },
  {
   "cell_type": "code",
   "execution_count": 139,
   "metadata": {},
   "outputs": [],
   "source": [
    "m5 = pd.merge(m4, defense, left_index=True, right_index=True)"
   ]
  },
  {
   "cell_type": "code",
   "execution_count": 141,
   "metadata": {},
   "outputs": [],
   "source": [
    "result = m5"
   ]
  },
  {
   "cell_type": "code",
   "execution_count": 151,
   "metadata": {},
   "outputs": [],
   "source": [
    "result.to_pickle('./data/merged_data.p')"
   ]
  },
  {
   "cell_type": "code",
   "execution_count": 149,
   "metadata": {},
   "outputs": [],
   "source": [
    "mask_midfielder_attacking = [\n",
    "        ('Standard', 'Gls'),\n",
    "        ('Expected_y', 'npxG'),\n",
    "        ('Expected_y', 'npxG/Sh')\n",
    "        ('Unnamed: 24_level_0', 'xA'),\n",
    "        ('Unnamed: 27_level_0', '1/3'),\n",
    "        ('Total', 'PrgDist'),\n",
    "        ('Total', 'Cmp%'),\n",
    "        ('Dribbles', 'Succ%'),\n",
    "        ('Unnamed: 28_level_0', 'Dispos'),\n",
    "        ('Vs Dribbles', 'Past')\n",
    "       ]"
   ]
  },
  {
   "cell_type": "code",
   "execution_count": 150,
   "metadata": {},
   "outputs": [
    {
     "data": {
      "text/html": [
       "<div>\n",
       "<style scoped>\n",
       "    .dataframe tbody tr th:only-of-type {\n",
       "        vertical-align: middle;\n",
       "    }\n",
       "\n",
       "    .dataframe tbody tr th {\n",
       "        vertical-align: top;\n",
       "    }\n",
       "\n",
       "    .dataframe thead tr th {\n",
       "        text-align: left;\n",
       "    }\n",
       "\n",
       "    .dataframe thead tr:last-of-type th {\n",
       "        text-align: right;\n",
       "    }\n",
       "</style>\n",
       "<table border=\"1\" class=\"dataframe\">\n",
       "  <thead>\n",
       "    <tr>\n",
       "      <th></th>\n",
       "      <th>Unnamed: 24_level_0</th>\n",
       "      <th>Unnamed: 27_level_0</th>\n",
       "      <th colspan=\"2\" halign=\"left\">Total</th>\n",
       "      <th>Dribbles</th>\n",
       "      <th>Unnamed: 28_level_0</th>\n",
       "      <th>Vs Dribbles</th>\n",
       "    </tr>\n",
       "    <tr>\n",
       "      <th></th>\n",
       "      <th>xA</th>\n",
       "      <th>1/3</th>\n",
       "      <th>PrgDist</th>\n",
       "      <th>Cmp%</th>\n",
       "      <th>Succ%</th>\n",
       "      <th>Dispos</th>\n",
       "      <th>Past</th>\n",
       "    </tr>\n",
       "    <tr>\n",
       "      <th>(Unnamed: 1_level_0, Player)</th>\n",
       "      <th></th>\n",
       "      <th></th>\n",
       "      <th></th>\n",
       "      <th></th>\n",
       "      <th></th>\n",
       "      <th></th>\n",
       "      <th></th>\n",
       "    </tr>\n",
       "  </thead>\n",
       "  <tbody>\n",
       "    <tr>\n",
       "      <th>Piotr Zieliński</th>\n",
       "      <td>2.0</td>\n",
       "      <td>214</td>\n",
       "      <td>6688</td>\n",
       "      <td>87.0</td>\n",
       "      <td>63.0</td>\n",
       "      <td>37</td>\n",
       "      <td>26</td>\n",
       "    </tr>\n",
       "  </tbody>\n",
       "</table>\n",
       "</div>"
      ],
      "text/plain": [
       "                             Unnamed: 24_level_0 Unnamed: 27_level_0   Total  \\\n",
       "                                              xA                 1/3 PrgDist   \n",
       "(Unnamed: 1_level_0, Player)                                                   \n",
       "Piotr Zieliński                              2.0                 214    6688   \n",
       "\n",
       "                                   Dribbles Unnamed: 28_level_0 Vs Dribbles  \n",
       "                              Cmp%    Succ%              Dispos        Past  \n",
       "(Unnamed: 1_level_0, Player)                                                 \n",
       "Piotr Zieliński               87.0     63.0                  37          26  "
      ]
     },
     "execution_count": 150,
     "metadata": {},
     "output_type": "execute_result"
    }
   ],
   "source": [
    "result[mask_midfielder_attacking].loc[result.index == 'Piotr Zieliński']"
   ]
  },
  {
   "cell_type": "code",
   "execution_count": null,
   "metadata": {},
   "outputs": [],
   "source": [
    "template_gk = []\n",
    "\n",
    "template_full_back = []\n",
    "\n",
    "template_central_back = []\n",
    "\n",
    "template_midfield_defensive = []\n",
    "\n",
    "template_midfield_attacking = ['xA', \n",
    "                               'Passes into final 1/3', \n",
    "                               'Progressive Distance',\n",
    "                               'Pass completion %',\n",
    "                               'Successful dribbles',\n",
    "                               'Dribble success %',\n",
    "                               'Times Disposesed',\n",
    "                               'Tackle/Dribbled Past']\n",
    "\n",
    "template_forward = []\n"
   ]
  }
 ],
 "metadata": {
  "kernelspec": {
   "display_name": "Python 3",
   "language": "python",
   "name": "python3"
  },
  "language_info": {
   "codemirror_mode": {
    "name": "ipython",
    "version": 3
   },
   "file_extension": ".py",
   "mimetype": "text/x-python",
   "name": "python",
   "nbconvert_exporter": "python",
   "pygments_lexer": "ipython3",
   "version": "3.8.3"
  }
 },
 "nbformat": 4,
 "nbformat_minor": 4
}
