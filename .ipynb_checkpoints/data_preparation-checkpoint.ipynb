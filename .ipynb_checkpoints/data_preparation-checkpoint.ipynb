{
 "cells": [
  {
   "cell_type": "code",
   "execution_count": 1,
   "metadata": {},
   "outputs": [],
   "source": [
    "import pandas as pd"
   ]
  },
  {
   "cell_type": "code",
   "execution_count": null,
   "metadata": {},
   "outputs": [],
   "source": [
    "template_gk = []\n",
    "\n",
    "template_full_back = []\n",
    "\n",
    "template_central_back = []\n",
    "\n",
    "template_midfield_defensive = []\n",
    "\n",
    "template_midfield_attacking = ['xA', \n",
    "                               'Passes into final 1/3', \n",
    "                               'Progressive Distance',\n",
    "                               'Pass completion %',\n",
    "                               'Successful dribbles',\n",
    "                               'Dribble success %',\n",
    "                               'Times Disposesed',\n",
    "                               'Tackle/Dribbled Past']\n",
    "\n",
    "template_forward = []\n"
   ]
  },
  {
   "cell_type": "code",
   "execution_count": 3,
   "metadata": {},
   "outputs": [],
   "source": [
    "df = pd.read_pickle('./data/merged_data.p')"
   ]
  },
  {
   "cell_type": "code",
   "execution_count": 12,
   "metadata": {},
   "outputs": [],
   "source": [
    "df.drop(columns=[x for x in df.columns if 'Matches' in x], inplace=True)"
   ]
  },
  {
   "cell_type": "code",
   "execution_count": 6,
   "metadata": {},
   "outputs": [],
   "source": [
    "non_num_cols = [(   'Unnamed: 2_level_0',  'Nation'),\n",
    "            (   'Unnamed: 3_level_0',     'Pos'),\n",
    "            (   'Unnamed: 4_level_0',   'Squad'),\n",
    "            (   'Unnamed: 5_level_0',    'Comp')]"
   ]
  },
  {
   "cell_type": "code",
   "execution_count": 13,
   "metadata": {},
   "outputs": [],
   "source": [
    "for column in df.columns:\n",
    "    if column not in non_num_cols:\n",
    "        df[column] = pd.to_numeric(df[column])"
   ]
  },
  {
   "cell_type": "markdown",
   "metadata": {},
   "source": [
    "## Normalization"
   ]
  },
  {
   "cell_type": "code",
   "execution_count": 20,
   "metadata": {},
   "outputs": [
    {
     "ename": "ModuleNotFoundError",
     "evalue": "No module named 'sklearn'",
     "output_type": "error",
     "traceback": [
      "\u001b[1;31m---------------------------------------------------------------------------\u001b[0m",
      "\u001b[1;31mModuleNotFoundError\u001b[0m                       Traceback (most recent call last)",
      "\u001b[1;32m<ipython-input-20-d27a4e3c0526>\u001b[0m in \u001b[0;36m<module>\u001b[1;34m\u001b[0m\n\u001b[1;32m----> 1\u001b[1;33m \u001b[1;32mfrom\u001b[0m \u001b[0msklearn\u001b[0m \u001b[1;32mimport\u001b[0m \u001b[0mpreprocessing\u001b[0m\u001b[1;33m\u001b[0m\u001b[1;33m\u001b[0m\u001b[0m\n\u001b[0m",
      "\u001b[1;31mModuleNotFoundError\u001b[0m: No module named 'sklearn'"
     ]
    }
   ],
   "source": [
    "from sklearn import preprocessing"
   ]
  },
  {
   "cell_type": "code",
   "execution_count": 17,
   "metadata": {},
   "outputs": [],
   "source": [
    "cols_to_norm = [x for x in df.columns if x not in non_num_cols]"
   ]
  },
  {
   "cell_type": "code",
   "execution_count": 18,
   "metadata": {},
   "outputs": [
    {
     "data": {
      "text/plain": [
       "[('Unnamed: 0_level_0', 'Rk'),\n",
       " ('Unnamed: 6_level_0', 'Age'),\n",
       " ('Unnamed: 7_level_0', 'Born'),\n",
       " ('Playing Time', 'MP'),\n",
       " ('Playing Time', 'Starts'),\n",
       " ('Playing Time', 'Min'),\n",
       " ('Performance', 'Gls'),\n",
       " ('Performance', 'Ast'),\n",
       " ('Performance', 'PK'),\n",
       " ('Performance', 'PKatt'),\n",
       " ('Performance', 'CrdY'),\n",
       " ('Performance', 'CrdR'),\n",
       " ('Per 90 Minutes', 'Gls'),\n",
       " ('Per 90 Minutes', 'Ast'),\n",
       " ('Per 90 Minutes', 'G+A'),\n",
       " ('Per 90 Minutes', 'G-PK'),\n",
       " ('Per 90 Minutes', 'G+A-PK'),\n",
       " ('Expected_x', 'xG'),\n",
       " ('Expected_x', 'npxG'),\n",
       " ('Expected_x', 'xA'),\n",
       " ('Per 90 Minutes', 'xG'),\n",
       " ('Per 90 Minutes', 'xA'),\n",
       " ('Per 90 Minutes', 'xG+xA'),\n",
       " ('Per 90 Minutes', 'npxG'),\n",
       " ('Per 90 Minutes', 'npxG+xA'),\n",
       " ('Standard', 'Gls'),\n",
       " ('Standard', 'PK'),\n",
       " ('Standard', 'PKatt'),\n",
       " ('Standard', 'Sh'),\n",
       " ('Standard', 'SoT'),\n",
       " ('Standard', 'FK'),\n",
       " ('Standard', 'SoT%'),\n",
       " ('Standard', 'Sh/90'),\n",
       " ('Standard', 'SoT/90'),\n",
       " ('Standard', 'G/Sh'),\n",
       " ('Standard', 'G/SoT'),\n",
       " ('Expected_y', 'xG'),\n",
       " ('Expected_y', 'npxG'),\n",
       " ('Expected_y', 'npxG/Sh'),\n",
       " ('Expected_y', 'G-xG'),\n",
       " ('Expected_y', 'np:G-xG'),\n",
       " ('Total', 'Cmp'),\n",
       " ('Total', 'Att'),\n",
       " ('Total', 'Cmp%'),\n",
       " ('Total', 'TotDist'),\n",
       " ('Total', 'PrgDist'),\n",
       " ('Short', 'Cmp'),\n",
       " ('Short', 'Att'),\n",
       " ('Short', 'Cmp%'),\n",
       " ('Medium', 'Cmp'),\n",
       " ('Medium', 'Att'),\n",
       " ('Medium', 'Cmp%'),\n",
       " ('Long', 'Cmp'),\n",
       " ('Long', 'Att'),\n",
       " ('Long', 'Cmp%'),\n",
       " ('Unnamed: 23_level_0', 'Ast'),\n",
       " ('Unnamed: 24_level_0', 'xA'),\n",
       " ('Unnamed: 25_level_0', 'A-xA'),\n",
       " ('Unnamed: 26_level_0', 'KP'),\n",
       " ('Unnamed: 27_level_0', '1/3'),\n",
       " ('Unnamed: 28_level_0', 'PPA'),\n",
       " ('Unnamed: 29_level_0', 'CrsPA'),\n",
       " ('Unnamed: 30_level_0', 'Prog'),\n",
       " ('Unnamed: 9_level_0', 'Att'),\n",
       " ('Pass Types', 'Live'),\n",
       " ('Pass Types', 'Dead'),\n",
       " ('Pass Types', 'FK'),\n",
       " ('Pass Types', 'TB'),\n",
       " ('Pass Types', 'Press'),\n",
       " ('Pass Types', 'Sw'),\n",
       " ('Pass Types', 'Crs'),\n",
       " ('Pass Types', 'CK'),\n",
       " ('Corner Kicks', 'In'),\n",
       " ('Corner Kicks', 'Out'),\n",
       " ('Corner Kicks', 'Str'),\n",
       " ('Height', 'Ground'),\n",
       " ('Height', 'Low'),\n",
       " ('Height', 'High'),\n",
       " ('Body Parts', 'Left'),\n",
       " ('Body Parts', 'Right'),\n",
       " ('Body Parts', 'Head'),\n",
       " ('Body Parts', 'TI'),\n",
       " ('Body Parts', 'Other'),\n",
       " ('Outcomes', 'Cmp'),\n",
       " ('Outcomes', 'Off'),\n",
       " ('Outcomes', 'Out'),\n",
       " ('Outcomes', 'Int'),\n",
       " ('Outcomes', 'Blocks'),\n",
       " ('Touches', 'Touches'),\n",
       " ('Touches', 'Def Pen'),\n",
       " ('Touches', 'Def 3rd'),\n",
       " ('Touches', 'Mid 3rd'),\n",
       " ('Touches', 'Att 3rd'),\n",
       " ('Touches', 'Att Pen'),\n",
       " ('Touches', 'Live'),\n",
       " ('Dribbles', 'Succ'),\n",
       " ('Dribbles', 'Att'),\n",
       " ('Dribbles', 'Succ%'),\n",
       " ('Dribbles', '#Pl'),\n",
       " ('Dribbles', 'Megs'),\n",
       " ('Carries', 'Carries'),\n",
       " ('Carries', 'TotDist'),\n",
       " ('Carries', 'PrgDist'),\n",
       " ('Receiving', 'Targ'),\n",
       " ('Receiving', 'Rec'),\n",
       " ('Receiving', 'Rec%'),\n",
       " ('Unnamed: 27_level_0', 'Miscon'),\n",
       " ('Unnamed: 28_level_0', 'Dispos'),\n",
       " ('Tackles', 'Tkl'),\n",
       " ('Tackles', 'TklW'),\n",
       " ('Tackles', 'Def 3rd'),\n",
       " ('Tackles', 'Mid 3rd'),\n",
       " ('Tackles', 'Att 3rd'),\n",
       " ('Vs Dribbles', 'Tkl'),\n",
       " ('Vs Dribbles', 'Att'),\n",
       " ('Vs Dribbles', 'Tkl%'),\n",
       " ('Vs Dribbles', 'Past'),\n",
       " ('Pressures', 'Press'),\n",
       " ('Pressures', 'Succ'),\n",
       " ('Pressures', '%'),\n",
       " ('Pressures', 'Def 3rd'),\n",
       " ('Pressures', 'Mid 3rd'),\n",
       " ('Pressures', 'Att 3rd'),\n",
       " ('Blocks', 'Blocks'),\n",
       " ('Blocks', 'Sh'),\n",
       " ('Blocks', 'ShSv'),\n",
       " ('Blocks', 'Pass'),\n",
       " ('Unnamed: 28_level_0', 'Int'),\n",
       " ('Unnamed: 29_level_0', 'Clr'),\n",
       " ('Unnamed: 30_level_0', 'Err')]"
      ]
     },
     "execution_count": 18,
     "metadata": {},
     "output_type": "execute_result"
    }
   ],
   "source": [
    "cols_to_norm"
   ]
  },
  {
   "cell_type": "code",
   "execution_count": null,
   "metadata": {},
   "outputs": [],
   "source": [
    "x = mf_to_norm.values #returns a numpy array\n",
    "min_max_scaler = preprocessing.MinMaxScaler()\n",
    "x_scaled = min_max_scaler.fit_transform(x)\n",
    "normalized_mf = pd.DataFrame(x_scaled, columns=cols)\n",
    "\n",
    "mf_info2 = mf_info.reset_index()\n",
    "normalized_mf2 = normalized_mf.reset_index()\n",
    "\n",
    "res = pd.concat([mf_info2, normalized_mf2], axis=1)\n",
    "res.drop(columns = (  'index',        ''), inplace=True)"
   ]
  }
 ],
 "metadata": {
  "kernelspec": {
   "display_name": "Python 3",
   "language": "python",
   "name": "python3"
  },
  "language_info": {
   "codemirror_mode": {
    "name": "ipython",
    "version": 3
   },
   "file_extension": ".py",
   "mimetype": "text/x-python",
   "name": "python",
   "nbconvert_exporter": "python",
   "pygments_lexer": "ipython3",
   "version": "3.8.3"
  }
 },
 "nbformat": 4,
 "nbformat_minor": 4
}
