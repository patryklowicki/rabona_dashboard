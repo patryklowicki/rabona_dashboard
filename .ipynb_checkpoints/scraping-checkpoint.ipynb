{
 "cells": [
  {
   "cell_type": "code",
   "execution_count": 1,
   "metadata": {},
   "outputs": [],
   "source": [
    "import pandas as pd\n",
    "import numpy as np\n",
    "import requests\n",
    "import lxml\n",
    "import matplotlib.pyplot as plt\n",
    "import seaborn as sns\n",
    "from bs4 import BeautifulSoup"
   ]
  },
  {
   "cell_type": "code",
   "execution_count": 2,
   "metadata": {},
   "outputs": [],
   "source": [
    "fbref     = {'general'      : 'https://fbref.com/en/comps/Big5/stats/players/Big-5-European-Leagues-Stats',\n",
    "             'shoting'      : 'https://fbref.com/en/comps/Big5/shooting/players/Big-5-European-Leagues-Stats',\n",
    "             'passing'      : 'https://fbref.com/en/comps/Big5/passing/players/Big-5-European-Leagues-Stats', \n",
    "             'pass_types'   : 'https://fbref.com/en/comps/Big5/passing_types/players/Big-5-European-Leagues-Stats',\n",
    "             'defense'      : 'https://fbref.com/en/comps/Big5/defense/players/Big-5-European-Leagues-Stats', \n",
    "             'possession'   : 'https://fbref.com/en/comps/Big5/possession/players/Big-5-European-Leagues-Stats', \n",
    "             'playing_time' : 'https://fbref.com/en/comps/Big5/playingtime/players/Big-5-European-Leagues-Stats',\n",
    "             'misc'         : 'https://fbref.com/en/comps/Big5/misc/players/Big-5-European-Leagues-Stats' \n",
    "             'gk'           : 'https://fbref.com/en/comps/Big5/keepers/players/Big-5-European-Leagues-Stats',\n",
    "             'gk_adv'       : 'https://fbref.com/en/comps/Big5/keepersadv/players/Big-5-European-Leagues-Stats',\n",
    "            }"
   ]
  },
  {
   "cell_type": "code",
   "execution_count": 4,
   "metadata": {},
   "outputs": [],
   "source": [
    "def scrape_fbref(page):\n",
    "    resp = requests.get(page)\n",
    "    BeautifulSoup(resp.text)\n",
    "    clean  = str(resp.text).replace('<!--', '').replace('-->', '')\n",
    "    df_all = pd.read_html(clean)\n",
    "    table  = df_all[1]\n",
    "    return table"
   ]
  },
  {
   "cell_type": "code",
   "execution_count": null,
   "metadata": {},
   "outputs": [],
   "source": [
    "# intentionaly not doing it in a loop"
   ]
  },
  {
   "cell_type": "code",
   "execution_count": 5,
   "metadata": {},
   "outputs": [],
   "source": [
    "general = scrape_fbref(fbref['general'])\n",
    "general.to_pickle(r'./data/general.p')"
   ]
  },
  {
   "cell_type": "code",
   "execution_count": 9,
   "metadata": {},
   "outputs": [],
   "source": [
    "shoting = scrape_fbref(fbref['shoting'])\n",
    "shoting.to_pickle('./data/shoting.p')"
   ]
  },
  {
   "cell_type": "code",
   "execution_count": 10,
   "metadata": {},
   "outputs": [],
   "source": [
    "passing = scrape_fbref(fbref['passing'])\n",
    "passing.to_pickle('./data/passing.p')"
   ]
  },
  {
   "cell_type": "code",
   "execution_count": 11,
   "metadata": {},
   "outputs": [],
   "source": [
    "pass_types = scrape_fbref(fbref['pass_types'])\n",
    "pass_types.to_pickle('./data/pass_types.p')"
   ]
  },
  {
   "cell_type": "code",
   "execution_count": 24,
   "metadata": {},
   "outputs": [],
   "source": [
    "# possession = scrape_fbref(fbref['possession'])\n",
    "possession.to_pickle('./data/possession.p')"
   ]
  },
  {
   "cell_type": "code",
   "execution_count": 17,
   "metadata": {},
   "outputs": [],
   "source": [
    "defense = scrape_fbref(fbref['defense'])\n",
    "defense.to_pickle('./data/defense.p')"
   ]
  },
  {
   "cell_type": "code",
   "execution_count": 19,
   "metadata": {},
   "outputs": [],
   "source": [
    "gk = scrape_fbref(fbref['gk'])\n",
    "gk.to_pickle('./data/gk.p')"
   ]
  },
  {
   "cell_type": "code",
   "execution_count": 20,
   "metadata": {},
   "outputs": [],
   "source": [
    "gk_adv = scrape_fbref(fbref['gk_adv'])\n",
    "gk_adv.to_pickle('./data/gk_adv.p')"
   ]
  }
 ],
 "metadata": {
  "kernelspec": {
   "display_name": "Python 3",
   "language": "python",
   "name": "python3"
  },
  "language_info": {
   "codemirror_mode": {
    "name": "ipython",
    "version": 3
   },
   "file_extension": ".py",
   "mimetype": "text/x-python",
   "name": "python",
   "nbconvert_exporter": "python",
   "pygments_lexer": "ipython3",
   "version": "3.8.3"
  }
 },
 "nbformat": 4,
 "nbformat_minor": 4
}
